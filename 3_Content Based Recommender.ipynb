{
 "cells": [
  {
   "cell_type": "markdown",
   "metadata": {},
   "source": [
    "# Book Recommender----Part 3 (Content_Based) \n",
    "\n",
    "In this part, we will build a content based, personalized book recommender. The approach is below:  \n",
    "\n",
    "1) Firstly, construct a matrix in which each row reprensents a book with informations as: books title, author, book description.<br />\n",
    "\n",
    "2) Then, with the constructed matrix, compute the similiarities among these vectors(books). Here we use cosine similarity,where $V_j$ is reprensents the jth book, $V_i$ is reprensents the ith book. <br />\n",
    "$$S_{ij} = \\frac{V_{i}^T.V_{j}}{||V_{i}||.||V_{j}||}$$\n",
    "\n",
    "3) For each user, compute rating for books the user didn't rated in the following way: Find the books the user has rated($B_{rated}$,size is n). For the jth book in unrated book set, find a projected rating with the formula below, where $r_i$ is the rating of ith book in the rated book set, $S_{ij}$ is the similarity between jth unrated book and ith rated book.    \n",
    "    $$r_j=\\frac{\\sum_{i=1}^{n} r_iS_{ij}}{\\sum_{i=1}^{n}S_{ij}}$$\n",
    "\n",
    "4) Rank the unrated books by the ratings computed as above, recommend the top N books for this user"
   ]
  },
  {
   "cell_type": "code",
   "execution_count": 1,
   "metadata": {},
   "outputs": [
    {
     "name": "stderr",
     "output_type": "stream",
     "text": [
      "[nltk_data] Downloading package stopwords to\n",
      "[nltk_data]     C:\\Users\\YaoDe\\AppData\\Roaming\\nltk_data...\n",
      "[nltk_data]   Package stopwords is already up-to-date!\n"
     ]
    }
   ],
   "source": [
    "import numpy as np\n",
    "import pandas as pd\n",
    "pd.set_option('display.width', 500)\n",
    "pd.set_option('display.max_columns', 100)\n",
    "import re\n",
    "from tqdm import tqdm_notebook as tqdm\n",
    "import collections\n",
    "import nltk\n",
    "nltk.download('stopwords')\n",
    "from nltk.corpus import stopwords\n",
    "from collections import defaultdict\n",
    "\n",
    "from sklearn.model_selection import train_test_split\n",
    "from tqdm import tqdm_notebook as tqdm\n",
    "from sklearn.feature_extraction.text import TfidfVectorizer, CountVectorizer\n",
    "from sklearn.metrics.pairwise import linear_kernel, cosine_similarity\n",
    "from sklearn.metrics import mean_squared_error\n",
    "from math import sqrt\n",
    "import warnings\n",
    "warnings.filterwarnings(\"ignore\")"
   ]
  },
  {
   "cell_type": "markdown",
   "metadata": {},
   "source": [
    "## 1. Construct TF-iDF matrix"
   ]
  },
  {
   "cell_type": "code",
   "execution_count": 2,
   "metadata": {},
   "outputs": [
    {
     "data": {
      "text/plain": [
       "array([\"Harry Potter and the Sorcerer's Stone J.K. Rowling J.K. Rowling J.K. Rowling Harry Potter's life is miserable. His parents are dead and he's stuck with his heartless relatives, who force him to live in a tiny closet under the stairs. But his fortune changes when he receives a letter that tells him the truth about himself: he's a wizard. A mysterious visitor rescues him from his relatives and takes him to his new home, Hogwarts School of Witchcraft and Wizardry.After a lifetime of bottling up his magical powers, Harry finally feels like a normal kid. But even within the Wizarding community, he is special. He is the boy who lived: the only person to have ever survived a killing curse inflicted by the evil Lord Voldemort, who launched a brutal takeover of the Wizarding world, only to vanish after failing to kill Harry.Though Harry's first year at Hogwarts is the best of his life, not everything is perfect. There is a dangerous secret object hidden within the castle walls, and Harry believes it's his responsibility to prevent it from falling into evil hands. But doing so will bring him into contact with forces more terrifying than he ever could have imagined.Full of sympathetic characters, wildly imaginative situations, and countless exciting details, the first installment in the series assembles an unforgettable magical world and sets the stage for many high-stakes adventures to come.\",\n",
       "       \"The Lightning Thief Rick Riordan Rick Riordan Rick Riordan Alternate cover for this ISBN can be found herePercy Jackson is a good kid, but he can't seem to focus on his schoolwork or control his temper. And lately, being away at boarding school is only getting worse - Percy could have sworn his pre-algebra teacher turned into a monster and tried to kill him. When Percy's mom finds out, she knows it's time that he knew the truth about where he came from, and that he go to the one place he'll be safe. She sends Percy to Camp Half Blood, a summer camp for demigods (on Long Island), where he learns that the father he never knew is Poseidon, God of the Sea. Soon a mystery unfolds and together with his friends—one a satyr and the other the demigod daughter of Athena - Percy sets out on a quest across the United States to reach the gates of the Underworld (located in a recording studio in Hollywood) and prevent a catastrophic war between the gods.\",\n",
       "       \"Twilight Stephenie Meyer Stephenie Meyer Stephenie Meyer About three things I was absolutely positive.First, Edward was a vampire.Second, there was a part of him—and I didn't know how dominant that part might be—that thirsted for my blood.And third, I was unconditionally and irrevocably in love with him.Deeply seductive and extraordinarily suspenseful, Twilight is a love story with bite.\"],\n",
       "      dtype=object)"
      ]
     },
     "execution_count": 2,
     "metadata": {},
     "output_type": "execute_result"
    }
   ],
   "source": [
    "books_df=pd.read_csv('./goodreads/books.csv')\n",
    "books_df['bookID']=books_df['bookID'].astype('str')\n",
    "books_df['authorID']=books_df['authorID'].astype('str')\n",
    "#Combine book title, author name and book descrtiptions into a string\n",
    "books_df['combine_text']=books_df['title']+' '+(books_df['authorName']+' ')*3+books_df['descriptions']\n",
    "books_df['combine_text'].values[:3]"
   ]
  },
  {
   "cell_type": "code",
   "execution_count": 3,
   "metadata": {},
   "outputs": [
    {
     "data": {
      "text/plain": [
       "(2970, 28663)"
      ]
     },
     "execution_count": 3,
     "metadata": {},
     "output_type": "execute_result"
    }
   ],
   "source": [
    "#Convert the text string into TF-iDF vector\n",
    "tf = TfidfVectorizer(analyzer='word',min_df=0, stop_words='english')\n",
    "tf_matrix=tf.fit_transform(books_df['combine_text'])\n",
    "tf_matrix.shape"
   ]
  },
  {
   "cell_type": "code",
   "execution_count": 4,
   "metadata": {},
   "outputs": [
    {
     "data": {
      "text/plain": [
       "(2970, 2970)"
      ]
     },
     "execution_count": 4,
     "metadata": {},
     "output_type": "execute_result"
    }
   ],
   "source": [
    "#Compute the similiarties among books, since we use TF-iDF vector(normalized), the cosine similar is the same as linear kernal.\n",
    "cosine_similiarity = linear_kernel(tf_matrix, tf_matrix)\n",
    "cosine_similiarity.shape"
   ]
  },
  {
   "cell_type": "markdown",
   "metadata": {},
   "source": [
    "## 2. Compute ratings for unrated books on each user individually"
   ]
  },
  {
   "cell_type": "code",
   "execution_count": 5,
   "metadata": {},
   "outputs": [],
   "source": [
    "ratings=pd.read_csv('./goodreads/final_ratings.csv')\n",
    "ratings['bookID']=ratings['bookID'].astype('str')\n",
    "ratings['userID']=ratings['userID'].astype('str')\n",
    "ratings['user_count']=ratings.groupby('userID')['userID'].transform('count') \n",
    "ratings=ratings[ratings['user_count']>=20] #only train the model to each user who have rated no less than 20 books\n",
    "userid_list=ratings['userID'].unique()"
   ]
  },
  {
   "cell_type": "code",
   "execution_count": 6,
   "metadata": {},
   "outputs": [],
   "source": [
    "#split the data into train and test\n",
    "train, test = train_test_split(ratings,\n",
    "                               stratify=ratings['userID'], \n",
    "                               test_size=0.20,\n",
    "                               random_state=42)"
   ]
  },
  {
   "cell_type": "code",
   "execution_count": 7,
   "metadata": {},
   "outputs": [
    {
     "data": {
      "text/plain": [
       "1.046544456960596"
      ]
     },
     "execution_count": 7,
     "metadata": {},
     "output_type": "execute_result"
    }
   ],
   "source": [
    "#predict the ratings of unrated books for user whose userID is '1713956', use the test set to measure the RMSE\n",
    "rated_bookID = train.loc[train.userID =='1713956']['bookID'].values\n",
    "rated_books=books_df[books_df['bookID'].isin(rated_bookID)]\n",
    "unrated_books=books_df[~books_df['bookID'].isin(rated_bookID)]\n",
    "rating_mapping=defaultdict(int)\n",
    "sim_mapping=defaultdict(int)\n",
    "rating_pred={}\n",
    "for idx_r in rated_books.index:\n",
    "    rating_r=rated_books[rated_books.index==idx_r]['rating'].values[0]\n",
    "    #print(rating_r)\n",
    "    for idx_ur in unrated_books.index:\n",
    "        similarity=cosine_similiarity[idx_r,idx_ur]\n",
    "        #print(similarity)\n",
    "        rating_mapping[idx_ur]+=(rating_r*similarity)\n",
    "        sim_mapping[idx_ur]+=similarity\n",
    "for idx_ur in unrated_books.index:\n",
    "    rating_pred[idx_ur]=(rating_mapping[idx_ur]/sim_mapping[idx_ur])\n",
    "unrated_books['rating_pred']=list(rating_pred.values())\n",
    "true_rating_test=test[test['userID']=='1713956'].merge(unrated_books,on='bookID')['rating_x']\n",
    "pred_rating_test=test[test['userID']=='1713956'].merge(unrated_books,on='bookID')['rating_pred']\n",
    "rmse_test=sqrt(mean_squared_error(true_rating_test,pred_rating_test))\n",
    "rmse_test"
   ]
  },
  {
   "cell_type": "code",
   "execution_count": 8,
   "metadata": {},
   "outputs": [],
   "source": [
    "#For every user, predict the rating of the unrated books,and compute the average RMSE across the users\n",
    "def compute_rating(train,test,sim_matrix,books_df,userid_list):\n",
    "    rmse_train_list=[] \n",
    "    rmse_test_list=[]\n",
    "    for userid in tqdm(userid_list,desc=\"computing rating\"):\n",
    "        rated_bookID = train.loc[train.userID ==userid]['bookID'].values\n",
    "        rated_books=books_df[books_df['bookID'].isin(rated_bookID)]\n",
    "        unrated_books=books_df[~books_df['bookID'].isin(rated_bookID)]\n",
    "        rating_mapping=defaultdict(int)\n",
    "        sim_mapping=defaultdict(int)\n",
    "        rating_pred={}\n",
    "        for idx_r in rated_books.index:\n",
    "            rating_r=rated_books[rated_books.index==idx_r]['rating'].values[0]\n",
    "            #print(rating_r)\n",
    "            for idx_ur in unrated_books.index:\n",
    "                similarity=cosine_similiarity[idx_r,idx_ur]\n",
    "                #print(similarity)\n",
    "                rating_mapping[idx_ur]+=(rating_r*similarity)\n",
    "                sim_mapping[idx_ur]+=similarity\n",
    "        for idx_ur in unrated_books.index:\n",
    "            rating_pred[idx_ur]=(rating_mapping[idx_ur]/sim_mapping[idx_ur])\n",
    "        unrated_books['rating_pred']=pd.Series(rating_pred)\n",
    "        true_rating_test=test[test['userID']==userid].merge(unrated_books,on='bookID')['rating_x']\n",
    "        pred_rating_test=test[test['userID']==userid].merge(unrated_books,on='bookID')['rating_pred']\n",
    "        if len(true_rating_test)==0 or len(pred_rating_test)==0: continue\n",
    "        pred_rating_test=pred_rating_test.fillna(0)\n",
    "        rmse_test=sqrt(mean_squared_error(true_rating_test,pred_rating_test))\n",
    "        rmse_test_list.append(rmse_test)\n",
    "    print(f'The mean rmse of rating prediction for test dataset is {np.mean(rmse_test_list)}')\n",
    "    return np.mean(rmse_test_list)"
   ]
  },
  {
   "cell_type": "code",
   "execution_count": 9,
   "metadata": {},
   "outputs": [
    {
     "data": {
      "application/vnd.jupyter.widget-view+json": {
       "model_id": "5ca8986bf7064422b9fb2a4a3ea79ac3",
       "version_major": 2,
       "version_minor": 0
      },
      "text/plain": [
       "HBox(children=(IntProgress(value=0, description='computing rating', max=3881, style=ProgressStyle(description_…"
      ]
     },
     "metadata": {},
     "output_type": "display_data"
    },
    {
     "name": "stdout",
     "output_type": "stream",
     "text": [
      "\n",
      "The mean rmse of rating prediction for test dataset is 1.0387160987024733\n"
     ]
    },
    {
     "data": {
      "text/plain": [
       "1.0387160987024733"
      ]
     },
     "execution_count": 9,
     "metadata": {},
     "output_type": "execute_result"
    }
   ],
   "source": [
    "compute_rating(train,test,cosine_similiarity,books_df,userid_list)"
   ]
  },
  {
   "cell_type": "markdown",
   "metadata": {},
   "source": [
    "## 3.  Recommend top 10 unrated books for a user"
   ]
  },
  {
   "cell_type": "code",
   "execution_count": 10,
   "metadata": {},
   "outputs": [],
   "source": [
    "def recommend_books(sim_matrix,ratings,books_df,userid,N=10):\n",
    "    rated_bookID = ratings.loc[ratings.userID ==userid]['bookID'].values\n",
    "    rated_books=books_df[books_df['bookID'].isin(rated_bookID)]\n",
    "    unrated_books=books_df[~books_df['bookID'].isin(rated_bookID)]\n",
    "    rating_mapping=defaultdict(int)\n",
    "    sim_mapping=defaultdict(int)\n",
    "    rating_pred={}\n",
    "    for idx_r in rated_books.index:\n",
    "        rating_r=rated_books[rated_books.index==idx_r]['rating'].values[0]\n",
    "        for idx_ur in unrated_books.index:\n",
    "            similarity=sim_matrix[idx_r,idx_ur]\n",
    "            rating_mapping[idx_ur]+=(rating_r*similarity)\n",
    "            sim_mapping[idx_ur]+=similarity\n",
    "    for idx_ur in unrated_books.index:\n",
    "        rating_pred[idx_ur]=(rating_mapping[idx_ur]/sim_mapping[idx_ur])\n",
    "    unrated_books['rating_pred']=pd.Series(rating_pred)\n",
    "    return unrated_books.sort_values('rating_pred',ascending=False).head(N)[['title','rating','rating_pred']]"
   ]
  },
  {
   "cell_type": "code",
   "execution_count": 11,
   "metadata": {},
   "outputs": [
    {
     "data": {
      "text/html": [
       "<div>\n",
       "<style scoped>\n",
       "    .dataframe tbody tr th:only-of-type {\n",
       "        vertical-align: middle;\n",
       "    }\n",
       "\n",
       "    .dataframe tbody tr th {\n",
       "        vertical-align: top;\n",
       "    }\n",
       "\n",
       "    .dataframe thead th {\n",
       "        text-align: right;\n",
       "    }\n",
       "</style>\n",
       "<table border=\"1\" class=\"dataframe\">\n",
       "  <thead>\n",
       "    <tr style=\"text-align: right;\">\n",
       "      <th></th>\n",
       "      <th>title</th>\n",
       "      <th>rating</th>\n",
       "      <th>rating_pred</th>\n",
       "    </tr>\n",
       "  </thead>\n",
       "  <tbody>\n",
       "    <tr>\n",
       "      <th>1917</th>\n",
       "      <td>Harry Potter Series Box Set</td>\n",
       "      <td>4.74</td>\n",
       "      <td>4.156894</td>\n",
       "    </tr>\n",
       "    <tr>\n",
       "      <th>1916</th>\n",
       "      <td>Miecz przeznaczenia</td>\n",
       "      <td>4.31</td>\n",
       "      <td>4.140000</td>\n",
       "    </tr>\n",
       "    <tr>\n",
       "      <th>787</th>\n",
       "      <td>Two Classics by Roald Dahl</td>\n",
       "      <td>4.13</td>\n",
       "      <td>4.135806</td>\n",
       "    </tr>\n",
       "    <tr>\n",
       "      <th>892</th>\n",
       "      <td>A Light in the Attic</td>\n",
       "      <td>4.34</td>\n",
       "      <td>4.096857</td>\n",
       "    </tr>\n",
       "    <tr>\n",
       "      <th>1357</th>\n",
       "      <td>Harry Potter and the Methods of Rationality</td>\n",
       "      <td>4.39</td>\n",
       "      <td>4.083072</td>\n",
       "    </tr>\n",
       "    <tr>\n",
       "      <th>1709</th>\n",
       "      <td>Di undici foglie</td>\n",
       "      <td>4.16</td>\n",
       "      <td>4.076558</td>\n",
       "    </tr>\n",
       "    <tr>\n",
       "      <th>573</th>\n",
       "      <td>Fantastic Beasts and Where to Find Them</td>\n",
       "      <td>3.99</td>\n",
       "      <td>4.074760</td>\n",
       "    </tr>\n",
       "    <tr>\n",
       "      <th>687</th>\n",
       "      <td>The Bane Chronicles</td>\n",
       "      <td>4.15</td>\n",
       "      <td>4.058780</td>\n",
       "    </tr>\n",
       "    <tr>\n",
       "      <th>81</th>\n",
       "      <td>Where the Sidewalk Ends</td>\n",
       "      <td>4.30</td>\n",
       "      <td>4.055993</td>\n",
       "    </tr>\n",
       "    <tr>\n",
       "      <th>2314</th>\n",
       "      <td>Les Fiancés de l'Hiver</td>\n",
       "      <td>4.17</td>\n",
       "      <td>4.055930</td>\n",
       "    </tr>\n",
       "  </tbody>\n",
       "</table>\n",
       "</div>"
      ],
      "text/plain": [
       "                                            title  rating  rating_pred\n",
       "1917                  Harry Potter Series Box Set    4.74     4.156894\n",
       "1916                          Miecz przeznaczenia    4.31     4.140000\n",
       "787                    Two Classics by Roald Dahl    4.13     4.135806\n",
       "892                          A Light in the Attic    4.34     4.096857\n",
       "1357  Harry Potter and the Methods of Rationality    4.39     4.083072\n",
       "1709                             Di undici foglie    4.16     4.076558\n",
       "573       Fantastic Beasts and Where to Find Them    3.99     4.074760\n",
       "687                           The Bane Chronicles    4.15     4.058780\n",
       "81                        Where the Sidewalk Ends    4.30     4.055993\n",
       "2314                       Les Fiancés de l'Hiver    4.17     4.055930"
      ]
     },
     "execution_count": 11,
     "metadata": {},
     "output_type": "execute_result"
    }
   ],
   "source": [
    "df_recommend=recommend_books(cosine_similiarity,ratings,books_df,userid='2745288')\n",
    "df_recommend"
   ]
  },
  {
   "cell_type": "code",
   "execution_count": null,
   "metadata": {},
   "outputs": [],
   "source": []
  }
 ],
 "metadata": {
  "kernelspec": {
   "display_name": "Python 3",
   "language": "python",
   "name": "python3"
  },
  "language_info": {
   "codemirror_mode": {
    "name": "ipython",
    "version": 3
   },
   "file_extension": ".py",
   "mimetype": "text/x-python",
   "name": "python",
   "nbconvert_exporter": "python",
   "pygments_lexer": "ipython3",
   "version": "3.7.3"
  }
 },
 "nbformat": 4,
 "nbformat_minor": 2
}
