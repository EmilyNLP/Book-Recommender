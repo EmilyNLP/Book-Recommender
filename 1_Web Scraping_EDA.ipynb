{
 "cells": [
  {
   "cell_type": "markdown",
   "metadata": {},
   "source": [
    "#  Book Recommender---Part1 (Web scraping,Data Wrangling and EDA)"
   ]
  },
  {
   "cell_type": "code",
   "execution_count": 28,
   "metadata": {},
   "outputs": [],
   "source": [
    "import numpy as np\n",
    "import pandas as pd\n",
    "pd.set_option('display.width', 500)\n",
    "pd.set_option('display.max_columns', 100)\n",
    "import matplotlib.pyplot as plt\n",
    "%matplotlib inline\n",
    "import seaborn as sns\n",
    "sns.set_style(\"dark\")\n",
    "import matplotlib.pylab as pylab\n",
    "params = {'legend.fontsize': 'large',\n",
    "         'axes.labelsize': 'large',\n",
    "         'axes.titlesize':'large',\n",
    "         'xtick.labelsize':'large',\n",
    "         'ytick.labelsize':'large'}\n",
    "pylab.rcParams.update(params)\n",
    "\n",
    "import pickle\n",
    "import time, requests\n",
    "from bs4 import BeautifulSoup\n",
    "import re\n",
    "from tqdm import tqdm_notebook as tqdm\n",
    "import os\n",
    "\n",
    "#pakages for webdriver\n",
    "from selenium.webdriver import Chrome\n",
    "from selenium.webdriver.common.by import By\n",
    "from selenium.webdriver.support.ui import WebDriverWait\n",
    "from selenium import webdriver\n",
    "from selenium.webdriver.common.keys import Keys\n",
    "from selenium.webdriver.support import expected_conditions as ec\n",
    "from selenium.common.exceptions import (\n",
    "    TimeoutException, NoSuchElementException, StaleElementReferenceException, WebDriverException\n",
    ")"
   ]
  },
  {
   "cell_type": "code",
   "execution_count": 2,
   "metadata": {},
   "outputs": [],
   "source": [
    "URLSTART=\"https://www.goodreads.com\" \n",
    "id_from_url = re.compile(r\"^.*/([0-9]+).*$\")\n"
   ]
  },
  {
   "cell_type": "markdown",
   "metadata": {},
   "source": [
    "# 1. Web scraping data from goodreads.com\n",
    "\n",
    "I choose the top 3000 books from the list of  [Best_Young_Adult_Books](https://www.goodreads.com/list/show/43.Best_Young_Adult_Books) to build the dataset and the recommender sysytem."
   ]
  },
  {
   "cell_type": "markdown",
   "metadata": {},
   "source": [
    "# 1.1 Get the books urls from the book list"
   ]
  },
  {
   "cell_type": "code",
   "execution_count": 3,
   "metadata": {},
   "outputs": [],
   "source": [
    "#get urls of all the books in the list\n",
    "def get_books_urls(url):\n",
    "    books_urls=[]\n",
    "    html=requests.get(url)\n",
    "    d=BeautifulSoup(html.text, 'lxml')\n",
    "    #the number of pages in the book list\n",
    "    max_page=int(d.find(class_=\"pagination\").find_all(\"a\")[-2].text)\n",
    "    #fetch books urls from up to 30 web pages(up to 3000 books,100 books per page)  \n",
    "    page_num=min(30,max_page)\n",
    "    print(f'There are {max_page} pages in the booklist,we will fetch book urls from the top {page_num} pages')    \n",
    "    for i in tqdm(range(1,page_num+1),desc=\"fetching book url\"):\n",
    "        #print(f\"getting the book urls from page {i}\")\n",
    "        if i!=1:\n",
    "            html=requests.get(books_url+f'?page={i}')\n",
    "        d=BeautifulSoup(html.text, 'lxml')        \n",
    "        for e in d.select('.bookTitle'):\n",
    "            books_urls.append(URLSTART+e['href'])\n",
    "        html.close()\n",
    "    return books_urls\n",
    "    "
   ]
  },
  {
   "cell_type": "code",
   "execution_count": 4,
   "metadata": {},
   "outputs": [
    {
     "name": "stdout",
     "output_type": "stream",
     "text": [
      "There are 121 pages in the booklist,we will fetch book urls from the top 30 pages\n"
     ]
    },
    {
     "data": {
      "application/vnd.jupyter.widget-view+json": {
       "model_id": "1f44194ca9744e9585bdbe14ee230c81",
       "version_major": 2,
       "version_minor": 0
      },
      "text/plain": [
       "HBox(children=(IntProgress(value=0, description='fetching book url', max=30, style=ProgressStyle(description_w…"
      ]
     },
     "metadata": {},
     "output_type": "display_data"
    },
    {
     "name": "stdout",
     "output_type": "stream",
     "text": [
      "\n"
     ]
    }
   ],
   "source": [
    "books_url=\"https://www.goodreads.com/list/show/43.Best_Young_Adult_Books\"\n",
    "books_urls=get_books_urls(books_url)"
   ]
  },
  {
   "cell_type": "markdown",
   "metadata": {},
   "source": [
    "# 1.2 Get the books metadta"
   ]
  },
  {
   "cell_type": "code",
   "execution_count": 5,
   "metadata": {},
   "outputs": [],
   "source": [
    "# get metadata of a booklist\n",
    "def scrap_books(urls):\n",
    "    bookIDs=[]\n",
    "    titles=[]\n",
    "    ratings=[]\n",
    "    authorNames=[]\n",
    "    authorIDs=[]\n",
    "    ratingCounts=[]\n",
    "    reviewCounts=[]\n",
    "    descriptions=[]\n",
    "    fail_to_get=[]\n",
    "    for url in tqdm(urls,desc=\"fetching book metadata\"):\n",
    "        book=scrap_book(url)\n",
    "        if not book:\n",
    "            fail_to_get.append(url)\n",
    "            continue\n",
    "        bookIDs.append(book['bookID'])\n",
    "        titles.append(book['title'])\n",
    "        ratings.append(book['rating'])\n",
    "        authorNames.append(book['authorName'])\n",
    "        authorIDs.append(book['authorID'])\n",
    "        ratingCounts.append(book['ratingCount'])\n",
    "        reviewCounts.append(book['reviewCount'])\n",
    "        descriptions.append(book['description'])\n",
    "    books={'bookID':bookIDs,\n",
    "           'title':titles,\n",
    "           'rating':ratings,\n",
    "           'authorName':authorNames,\n",
    "           'authorID':authorIDs,           \n",
    "           'ratingCount':ratingCounts,\n",
    "           'reviewCount':reviewCounts,\n",
    "           'descriptions':descriptions}\n",
    "    return books,fail_to_get\n",
    "    "
   ]
  },
  {
   "cell_type": "code",
   "execution_count": 6,
   "metadata": {},
   "outputs": [],
   "source": [
    "#get matadata of a single book (BookID,authorName,authorID,rating,ratingCount,reviewCount,description text)\n",
    "def scrap_book(url):\n",
    "    #print(url)\n",
    "    html=requests.get(url)\n",
    "    d=BeautifulSoup(html.text, 'html.parser')\n",
    "    bookID=id_from_url.match(url).group(1)\n",
    "    title = d.find(id=\"bookTitle\")\n",
    "    if not title: \n",
    "        return None\n",
    "    else:\n",
    "        title=title.text.strip()    \n",
    "    rating = d.find(itemprop=\"ratingValue\").text.strip()\n",
    "    authorName = d.find(class_=\"authorName\").text\n",
    "    authorID=id_from_url.match(d.find(class_=\"authorName\").get('href')).group(1)\n",
    "    ratingCount=d.select(\"meta[itemprop='ratingCount']\")[0][\"content\"]\n",
    "    reviewCount=d.select(\"meta[itemprop='reviewCount']\")[0][\"content\"]\n",
    "    description=d.select(\"div[id='description']\")\n",
    "    if not description:\n",
    "        return None\n",
    "    else:\n",
    "        description=d.select(\"div[id='description']\")[0].find_all('span')[-1].text\n",
    "    book={}\n",
    "    book['bookID']=bookID\n",
    "    book['title']=title\n",
    "    book['rating']=rating\n",
    "    book['authorName']=authorName\n",
    "    book['authorID']=authorID    \n",
    "    book['ratingCount']=ratingCount\n",
    "    book['reviewCount']=reviewCount\n",
    "    book['description']=description    \n",
    "    return book    \n"
   ]
  },
  {
   "cell_type": "code",
   "execution_count": 7,
   "metadata": {
    "scrolled": true
   },
   "outputs": [
    {
     "data": {
      "application/vnd.jupyter.widget-view+json": {
       "model_id": "261a3270005f48edb248e7f383334df9",
       "version_major": 2,
       "version_minor": 0
      },
      "text/plain": [
       "HBox(children=(IntProgress(value=0, description='fetching book metadata', max=3000, style=ProgressStyle(descri…"
      ]
     },
     "metadata": {},
     "output_type": "display_data"
    },
    {
     "name": "stdout",
     "output_type": "stream",
     "text": [
      "\n"
     ]
    }
   ],
   "source": [
    "books_list,fail_to_get=scrap_books(books_urls)"
   ]
  },
  {
   "cell_type": "code",
   "execution_count": 8,
   "metadata": {},
   "outputs": [
    {
     "name": "stdout",
     "output_type": "stream",
     "text": [
      "fail to fetch 30 books\n"
     ]
    }
   ],
   "source": [
    "#check the books failed to fetch and remove them from book list\n",
    "print(f'fail to fetch {len(fail_to_get)} books')\n",
    "fail_list=[]\n",
    "for url in fail_to_get:\n",
    "    bookID=id_from_url.match(url).group(1)\n",
    "    fail_list.append(bookID)\n",
    "    #books_urls.remove(url)"
   ]
  },
  {
   "cell_type": "code",
   "execution_count": 9,
   "metadata": {},
   "outputs": [
    {
     "name": "stdout",
     "output_type": "stream",
     "text": [
      "There are 0 duplicated rows\n"
     ]
    }
   ],
   "source": [
    "#data wrangling\n",
    "books_df=pd.DataFrame(books_list)\n",
    "books_df['rating']=books_df['rating'].astype(float)\n",
    "books_df['ratingCount']=books_df['ratingCount'].astype(int)\n",
    "books_df['reviewCount']=books_df['reviewCount'].astype(int)\n",
    "print(f'There are {books_df.duplicated().sum()} duplicated rows')"
   ]
  },
  {
   "cell_type": "code",
   "execution_count": 10,
   "metadata": {},
   "outputs": [
    {
     "data": {
      "text/html": [
       "<div>\n",
       "<style scoped>\n",
       "    .dataframe tbody tr th:only-of-type {\n",
       "        vertical-align: middle;\n",
       "    }\n",
       "\n",
       "    .dataframe tbody tr th {\n",
       "        vertical-align: top;\n",
       "    }\n",
       "\n",
       "    .dataframe thead th {\n",
       "        text-align: right;\n",
       "    }\n",
       "</style>\n",
       "<table border=\"1\" class=\"dataframe\">\n",
       "  <thead>\n",
       "    <tr style=\"text-align: right;\">\n",
       "      <th></th>\n",
       "      <th>bookID</th>\n",
       "      <th>title</th>\n",
       "      <th>rating</th>\n",
       "      <th>authorName</th>\n",
       "      <th>authorID</th>\n",
       "      <th>ratingCount</th>\n",
       "      <th>reviewCount</th>\n",
       "      <th>descriptions</th>\n",
       "    </tr>\n",
       "  </thead>\n",
       "  <tbody>\n",
       "    <tr>\n",
       "      <th>601</th>\n",
       "      <td>48592799</td>\n",
       "      <td>Ice Dragon</td>\n",
       "      <td>3.33</td>\n",
       "      <td>D.K. Holmberg</td>\n",
       "      <td>7231848</td>\n",
       "      <td>3984</td>\n",
       "      <td>57</td>\n",
       "      <td>An Epic Fantasy Adventure When a mysterious st...</td>\n",
       "    </tr>\n",
       "    <tr>\n",
       "      <th>1030</th>\n",
       "      <td>235466</td>\n",
       "      <td>Someday This Pain Will Be Useful to You</td>\n",
       "      <td>3.68</td>\n",
       "      <td>Peter    Cameron</td>\n",
       "      <td>110982</td>\n",
       "      <td>12409</td>\n",
       "      <td>1437</td>\n",
       "      <td>It’s time for eighteen-year-old James Sveck to...</td>\n",
       "    </tr>\n",
       "    <tr>\n",
       "      <th>1166</th>\n",
       "      <td>15779957</td>\n",
       "      <td>Render</td>\n",
       "      <td>4.03</td>\n",
       "      <td>Stephanie Fleshman</td>\n",
       "      <td>6453495</td>\n",
       "      <td>30</td>\n",
       "      <td>20</td>\n",
       "      <td>A betrayal born of bloodA curse for a giftA lo...</td>\n",
       "    </tr>\n",
       "    <tr>\n",
       "      <th>1514</th>\n",
       "      <td>20803953</td>\n",
       "      <td>Bully</td>\n",
       "      <td>4.09</td>\n",
       "      <td>Penelope Douglas</td>\n",
       "      <td>7139136</td>\n",
       "      <td>98736</td>\n",
       "      <td>7090</td>\n",
       "      <td>My name is Tate. He doesn't call me that, thou...</td>\n",
       "    </tr>\n",
       "    <tr>\n",
       "      <th>730</th>\n",
       "      <td>17275769</td>\n",
       "      <td>Scepter of Faith</td>\n",
       "      <td>4.41</td>\n",
       "      <td>Chris       Smith</td>\n",
       "      <td>7111433</td>\n",
       "      <td>117</td>\n",
       "      <td>30</td>\n",
       "      <td>For God, we fight; all angels have heard the c...</td>\n",
       "    </tr>\n",
       "  </tbody>\n",
       "</table>\n",
       "</div>"
      ],
      "text/plain": [
       "        bookID                                    title  rating          authorName authorID  ratingCount  reviewCount                                       descriptions\n",
       "601   48592799                               Ice Dragon    3.33       D.K. Holmberg  7231848         3984           57  An Epic Fantasy Adventure When a mysterious st...\n",
       "1030    235466  Someday This Pain Will Be Useful to You    3.68    Peter    Cameron   110982        12409         1437  It’s time for eighteen-year-old James Sveck to...\n",
       "1166  15779957                                   Render    4.03  Stephanie Fleshman  6453495           30           20  A betrayal born of bloodA curse for a giftA lo...\n",
       "1514  20803953                                    Bully    4.09    Penelope Douglas  7139136        98736         7090  My name is Tate. He doesn't call me that, thou...\n",
       "730   17275769                         Scepter of Faith    4.41   Chris       Smith  7111433          117           30  For God, we fight; all angels have heard the c..."
      ]
     },
     "execution_count": 10,
     "metadata": {},
     "output_type": "execute_result"
    }
   ],
   "source": [
    "books_df.sample(5)"
   ]
  },
  {
   "cell_type": "code",
   "execution_count": 11,
   "metadata": {},
   "outputs": [
    {
     "name": "stdout",
     "output_type": "stream",
     "text": [
      "<class 'pandas.core.frame.DataFrame'>\n",
      "RangeIndex: 2970 entries, 0 to 2969\n",
      "Data columns (total 8 columns):\n",
      "bookID          2970 non-null object\n",
      "title           2970 non-null object\n",
      "rating          2970 non-null float64\n",
      "authorName      2970 non-null object\n",
      "authorID        2970 non-null object\n",
      "ratingCount     2970 non-null int32\n",
      "reviewCount     2970 non-null int32\n",
      "descriptions    2970 non-null object\n",
      "dtypes: float64(1), int32(2), object(5)\n",
      "memory usage: 162.5+ KB\n"
     ]
    }
   ],
   "source": [
    "books_df.info()"
   ]
  },
  {
   "cell_type": "code",
   "execution_count": 12,
   "metadata": {},
   "outputs": [],
   "source": [
    "#save the data\n",
    "books_df.to_csv('./goodreads/books.csv',index=False)\n",
    "with open('./goodreads/fail_list.pikle','wb') as handle:\n",
    "    pickle.dump(fail_list,handle)\n",
    "with open('./goodreads/books_urls.pikle','wb') as handle:\n",
    "    pickle.dump(books_urls,handle)"
   ]
  },
  {
   "cell_type": "markdown",
   "metadata": {},
   "source": [
    "# 1.3 Fetch the ratings data"
   ]
  },
  {
   "cell_type": "code",
   "execution_count": 13,
   "metadata": {},
   "outputs": [],
   "source": [
    "#get up to 300 ratings from a single book \n",
    "def scrape_book_ratings(book_url):\n",
    "    browser = webdriver.Chrome()\n",
    "    browser.set_page_load_timeout(30)\n",
    "    browser.get(book_url)\n",
    "    rating=[]\n",
    "    have_review=True\n",
    "    pre_start=0    \n",
    "    while have_review:\n",
    "        try:\n",
    "            d=BeautifulSoup(browser.page_source, 'html.parser')\n",
    "            start,end=d.find(class_=\"bookReviewsPaginationCount\").text[10:].split(\"-\")\n",
    "        except Exception:#if error,then skip this book\n",
    "            break\n",
    "        if start!=pre_start: #if new review page loaded,then go forward to download the ratings on new page\n",
    "            for review in d.find_all(class_=\"review\"):\n",
    "                try:\n",
    "                    user_id = review.find(class_=\"user\").get(\"href\")[11:].split(\"-\")[0]\n",
    "                    stars = len(review.find(class_=\"staticStars\").find_all(class_=\"p10\"))\n",
    "                    rating.append((user_id,stars))\n",
    "                except Exception:#if error happen, skip this rating\n",
    "                    continue\n",
    "            pre_start=start\n",
    "            pre_end=end\n",
    "            try:  # Try to find the next_page button\n",
    "                next_page = browser.find_element_by_class_name(\"next_page\")\n",
    "                # Check if button is click-able,if so click it\n",
    "                if next_page.tag_name == \"a\":\n",
    "                    browser.execute_script(\"arguments[0].click();\",next_page)                    \n",
    "                else:\n",
    "                    have_review=False\n",
    "            except NoSuchElementException: #if there isn't next_page element on the page,break the while loop\n",
    "                print(\"WARNING: There is no next page!\")\n",
    "                have_review=False\n",
    "                break\n",
    "    browser.quit()\n",
    "    return rating "
   ]
  },
  {
   "cell_type": "code",
   "execution_count": 14,
   "metadata": {},
   "outputs": [],
   "source": [
    "#get the ratings of the books in the list, the ratings \n",
    "def scrap_books_ratings(urls):\n",
    "    books_ratings={}\n",
    "    fail_to_get=[]\n",
    "    for url in tqdm(urls,desc=\"fetching book ratings\"):\n",
    "        bookID=id_from_url.match(url).group(1)\n",
    "        if bookID in fail_list:\n",
    "            continue\n",
    "        book_ratings=scrape_book_ratings(url)\n",
    "        if not book_ratings:\n",
    "            fail_to_get.append(url)\n",
    "            continue        \n",
    "        books_ratings[bookID]=book_ratings\n",
    "    return books_ratings,fail_to_get"
   ]
  },
  {
   "cell_type": "code",
   "execution_count": 15,
   "metadata": {},
   "outputs": [
    {
     "data": {
      "application/vnd.jupyter.widget-view+json": {
       "model_id": "f83747a7a3ec4c76aeaad9bf6c897786",
       "version_major": 2,
       "version_minor": 0
      },
      "text/plain": [
       "HBox(children=(IntProgress(value=0, description='fetching book ratings', max=10, style=ProgressStyle(descripti…"
      ]
     },
     "metadata": {},
     "output_type": "display_data"
    },
    {
     "name": "stdout",
     "output_type": "stream",
     "text": [
      "\n"
     ]
    }
   ],
   "source": [
    "#It takes more than 18 hours to fetch rating data for 3000 books,\n",
    "#so I fetch it by batches and save them into local files for later loading and combining\n",
    "#ratings,_=scrap_books_ratings(books_urls)\n",
    "\n",
    "#just a demo of scraping rating data as below\n",
    "books_ratings1,_=scrap_books_ratings(books_urls[:10])"
   ]
  },
  {
   "cell_type": "code",
   "execution_count": 16,
   "metadata": {},
   "outputs": [],
   "source": [
    "#load the previously fetched and saved ratings data\n",
    "bookID=[]\n",
    "userID=[]\n",
    "rating=[]\n",
    "for i in range(1,7):\n",
    "    ratingfile=os.path.join('.\\goodreads',f'rating{i}.pickle')\n",
    "    ratings=pickle.load(open(ratingfile,'rb'))\n",
    "    for key in ratings.keys():\n",
    "        for item in ratings[key]:\n",
    "            bookID.append(key)\n",
    "            userID.append(item[0])\n",
    "            rating.append(item[1])\n",
    "ratings=pd.DataFrame({'bookID':bookID,'userID':userID,'rating':rating})\n",
    "user_rating_count=ratings.groupby(by='userID',as_index=False).agg({'rating':pd.Series.count}).sort_values('rating',ascending = False)\n",
    "#only keep the users who rated no less than 5 books\n",
    "final_users=user_rating_count[user_rating_count['rating']>=5]\n",
    "final_ratings=ratings[ratings['userID'].isin(final_users.userID)]\n"
   ]
  },
  {
   "cell_type": "code",
   "execution_count": 17,
   "metadata": {},
   "outputs": [
    {
     "name": "stdout",
     "output_type": "stream",
     "text": [
      "There are 2029 dupulicated rows\n"
     ]
    }
   ],
   "source": [
    "#check duplicate data and remove them\n",
    "print(f'There are {final_ratings.duplicated(keep=False).sum()} dupulicated rows')\n",
    "final_ratings=final_ratings.drop_duplicates(keep='first')\n",
    "final_ratings=final_ratings.reset_index(drop=True)"
   ]
  },
  {
   "cell_type": "code",
   "execution_count": 18,
   "metadata": {},
   "outputs": [
    {
     "data": {
      "text/html": [
       "<div>\n",
       "<style scoped>\n",
       "    .dataframe tbody tr th:only-of-type {\n",
       "        vertical-align: middle;\n",
       "    }\n",
       "\n",
       "    .dataframe tbody tr th {\n",
       "        vertical-align: top;\n",
       "    }\n",
       "\n",
       "    .dataframe thead th {\n",
       "        text-align: right;\n",
       "    }\n",
       "</style>\n",
       "<table border=\"1\" class=\"dataframe\">\n",
       "  <thead>\n",
       "    <tr style=\"text-align: right;\">\n",
       "      <th></th>\n",
       "      <th>bookID</th>\n",
       "      <th>userID</th>\n",
       "      <th>rating</th>\n",
       "    </tr>\n",
       "  </thead>\n",
       "  <tbody>\n",
       "    <tr>\n",
       "      <th>29613</th>\n",
       "      <td>37435</td>\n",
       "      <td>49089020</td>\n",
       "      <td>5</td>\n",
       "    </tr>\n",
       "    <tr>\n",
       "      <th>2051</th>\n",
       "      <td>13335037</td>\n",
       "      <td>7030272</td>\n",
       "      <td>4</td>\n",
       "    </tr>\n",
       "    <tr>\n",
       "      <th>28367</th>\n",
       "      <td>100915</td>\n",
       "      <td>34178791</td>\n",
       "      <td>5</td>\n",
       "    </tr>\n",
       "    <tr>\n",
       "      <th>76130</th>\n",
       "      <td>7991200</td>\n",
       "      <td>283407</td>\n",
       "      <td>4</td>\n",
       "    </tr>\n",
       "    <tr>\n",
       "      <th>29862</th>\n",
       "      <td>10917</td>\n",
       "      <td>22220347</td>\n",
       "      <td>4</td>\n",
       "    </tr>\n",
       "  </tbody>\n",
       "</table>\n",
       "</div>"
      ],
      "text/plain": [
       "         bookID    userID  rating\n",
       "29613     37435  49089020       5\n",
       "2051   13335037   7030272       4\n",
       "28367    100915  34178791       5\n",
       "76130   7991200    283407       4\n",
       "29862     10917  22220347       4"
      ]
     },
     "execution_count": 18,
     "metadata": {},
     "output_type": "execute_result"
    }
   ],
   "source": [
    "final_ratings.sample(5)"
   ]
  },
  {
   "cell_type": "code",
   "execution_count": 19,
   "metadata": {},
   "outputs": [
    {
     "name": "stdout",
     "output_type": "stream",
     "text": [
      "<class 'pandas.core.frame.DataFrame'>\n",
      "RangeIndex: 331648 entries, 0 to 331647\n",
      "Data columns (total 3 columns):\n",
      "bookID    331648 non-null object\n",
      "userID    331648 non-null object\n",
      "rating    331648 non-null int64\n",
      "dtypes: int64(1), object(2)\n",
      "memory usage: 7.6+ MB\n"
     ]
    }
   ],
   "source": [
    "final_ratings.info()"
   ]
  },
  {
   "cell_type": "code",
   "execution_count": 20,
   "metadata": {},
   "outputs": [],
   "source": [
    "final_ratings.to_csv('./goodreads/final_ratings.csv',index=False)"
   ]
  },
  {
   "cell_type": "markdown",
   "metadata": {},
   "source": [
    "# 2. Explore the data "
   ]
  },
  {
   "cell_type": "markdown",
   "metadata": {},
   "source": [
    "## 2.1 Books dataset "
   ]
  },
  {
   "cell_type": "code",
   "execution_count": 21,
   "metadata": {},
   "outputs": [],
   "source": [
    "books_df=pd.read_csv(\"./goodreads/books.csv\")"
   ]
  },
  {
   "cell_type": "code",
   "execution_count": 22,
   "metadata": {},
   "outputs": [
    {
     "data": {
      "image/png": "[encoded data removed]",
      "text/plain": [
       "<Figure size 432x288 with 1 Axes>"
      ]
     },
     "metadata": {
      "needs_background": "light"
     },
     "output_type": "display_data"
    }
   ],
   "source": [
    "rating_mean=round(books_df['rating'].mean(),2)\n",
    "sns.histplot(books_df['rating'],bins=15)\n",
    "plt.title(f'Distribution of average rating per book in books dataset,mean={rating_mean}')\n",
    "plt.show()"
   ]
  },
  {
   "cell_type": "markdown",
   "metadata": {},
   "source": [
    "## 2.2 Ratings dataset "
   ]
  },
  {
   "cell_type": "code",
   "execution_count": 23,
   "metadata": {},
   "outputs": [],
   "source": [
    "final_ratings=pd.read_csv(\"./goodreads/final_ratings.csv\")"
   ]
  },
  {
   "cell_type": "code",
   "execution_count": 24,
   "metadata": {},
   "outputs": [
    {
     "data": {
      "image/png": "[encoded data removed]",
      "text/plain": [
       "<Figure size 432x288 with 1 Axes>"
      ]
     },
     "metadata": {
      "needs_background": "light"
     },
     "output_type": "display_data"
    }
   ],
   "source": [
    "agg = final_ratings.groupby(by= 'bookID', as_index=False).agg({'rating':pd.Series.mean})\n",
    "sns.histplot(agg['rating'],bins=15,kde=True)\n",
    "plt.title('Distribution of average ratings per book in ratings dataset')\n",
    "plt.show()"
   ]
  },
  {
   "cell_type": "code",
   "execution_count": 25,
   "metadata": {},
   "outputs": [
    {
     "data": {
      "image/png": "[encoded data removed]",
      "text/plain": [
       "<Figure size 432x288 with 1 Axes>"
      ]
     },
     "metadata": {
      "needs_background": "light"
     },
     "output_type": "display_data"
    }
   ],
   "source": [
    "agg = final_ratings.groupby(by= 'userID', as_index=False).agg({'rating':pd.Series.mean})\n",
    "sns.histplot(agg['rating'],bins=15,kde=True)\n",
    "plt.title('Distribution of average ratings per user in ratings dataset')\n",
    "plt.show()"
   ]
  },
  {
   "cell_type": "code",
   "execution_count": 26,
   "metadata": {},
   "outputs": [
    {
     "data": {
      "image/png": "[encoded data removed]",
      "text/plain": [
       "<Figure size 432x288 with 1 Axes>"
      ]
     },
     "metadata": {
      "needs_background": "light"
     },
     "output_type": "display_data"
    }
   ],
   "source": [
    "sns.countplot(x=\"rating\" , data=final_ratings)\n",
    "plt.title('Distribution of ratings from users')\n",
    "plt.show()"
   ]
  },
  {
   "cell_type": "code",
   "execution_count": 27,
   "metadata": {},
   "outputs": [
    {
     "data": {
      "image/png": "[encoded data removed]",
      "text/plain": [
       "<Figure size 360x360 with 1 Axes>"
      ]
     },
     "metadata": {
      "needs_background": "light"
     },
     "output_type": "display_data"
    }
   ],
   "source": [
    "mean_rated=int(final_ratings['userID'].value_counts().mean())\n",
    "distr = final_ratings.groupby(by= 'userID', as_index=False).agg({'rating':pd.Series.count})\n",
    "distr=distr[distr['rating']<75]\n",
    "sns.displot(distr['rating'],bins=20)\n",
    "plt.title(f'Distribution of number of rated books per Users(mean={mean_rated})')\n",
    "plt.xlabel('number of rated books per users') \n",
    "plt.show()"
   ]
  }
 ],
 "metadata": {
  "kernelspec": {
   "display_name": "Python 3",
   "language": "python",
   "name": "python3"
  },
  "language_info": {
   "codemirror_mode": {
    "name": "ipython",
    "version": 3
   },
   "file_extension": ".py",
   "mimetype": "text/x-python",
   "name": "python",
   "nbconvert_exporter": "python",
   "pygments_lexer": "ipython3",
   "version": "3.7.3"
  }
 },
 "nbformat": 4,
 "nbformat_minor": 2
}
