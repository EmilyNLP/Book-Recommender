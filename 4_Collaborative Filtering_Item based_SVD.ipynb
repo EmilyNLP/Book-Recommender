{
 "cells": [
  {
   "cell_type": "markdown",
   "metadata": {},
   "source": [
    "# Book Recommender---Part 4(Collaborative Filtering with neighborhood methods)"
   ]
  },
  {
   "cell_type": "markdown",
   "metadata": {},
   "source": [
    "In this part, I will use collaborative filtering with neigborhood methods to build books recommender system.Neighborhood methods are centered on computing the relationships between items or between users. The item-based approach evaluates a users's rating for an item based on ratings of 'neighboring' items by the same user. A item's neighbors are other items that tend to get similiar ratings when rated by the same user.\n",
    "\n",
    "First, build a user_book_matrix M(U*B), U is the number of users, B is the number of books, matrix[i,j] refers to the rating the ith user rated the jth book.   \n",
    "\n",
    "Then, decompose the user_book_matrix with SVD approach, \n",
    "$$M = USigmaV^T$$\n",
    "Next, transform user_book_matrix into the lower-dimensional space matrix_recon, k is the number of concepts: \n",
    "$$M^{recon} = M^TU[:,:k]$$\n",
    "\n",
    "Compute cosine similarity between books, for one user, use existing rating and similarity to forecast unknown rating. This his approach called item_based collabrative filtering.(If we compute similarity between users, it called user_based collabrative filtering.)\n",
    "$$r_{pred}=\\frac{\\sum_{i=1}^{n} r_iS_{ij}}{\\sum_{i=1}^{n}S_{ij}}$$\n",
    "$r_{pred}$ is the prediction of rating for unrated book, $r_i$ is the ith books the user has rated, n is the number of rated books"
   ]
  },
  {
   "cell_type": "code",
   "execution_count": 1,
   "metadata": {},
   "outputs": [],
   "source": [
    "import numpy as np\n",
    "import pandas as pd\n",
    "pd.set_option('display.width', 500)\n",
    "pd.set_option('display.max_columns', 100)\n",
    "import re\n",
    "from tqdm import tqdm_notebook as tqdm\n",
    "\n",
    "from sklearn.model_selection import train_test_split\n",
    "from tqdm import tqdm_notebook as tqdm\n",
    "from sklearn.feature_extraction.text import TfidfVectorizer, CountVectorizer\n",
    "from sklearn.metrics.pairwise import linear_kernel, cosine_similarity\n",
    "from sklearn.metrics import mean_squared_error\n",
    "from collections import defaultdict\n",
    "from scipy import sparse\n",
    "\n",
    "\n",
    "from math import sqrt\n",
    "import warnings\n",
    "warnings.filterwarnings(\"ignore\")"
   ]
  },
  {
   "cell_type": "markdown",
   "metadata": {},
   "source": [
    "# 1. Construct user_book matrix and SVD "
   ]
  },
  {
   "cell_type": "code",
   "execution_count": 2,
   "metadata": {},
   "outputs": [],
   "source": [
    "books_df=pd.read_csv('./goodreads/books.csv')\n",
    "books_df['bookID']=books_df['bookID'].astype('str')\n",
    "books_df['authorID']=books_df['authorID'].astype('str')\n",
    "ratings=pd.read_csv('./goodreads/final_ratings.csv')\n",
    "ratings['bookID']=ratings['bookID'].astype('str')\n",
    "ratings['userID']=ratings['userID'].astype('str')\n",
    "ratings=ratings[ratings['bookID'].isin(books_df['bookID'])] # remove the books which is not in books_df\n",
    "ratings['user_count']=ratings.groupby('userID')['userID'].transform('count') \n",
    "ratings=ratings[ratings['user_count']>20] #only train the model to user who have rated no less than 20 books\n",
    "userid_list=ratings['userID'].unique()"
   ]
  },
  {
   "cell_type": "code",
   "execution_count": 3,
   "metadata": {},
   "outputs": [],
   "source": [
    "#split the data into train and test\n",
    "train, test = train_test_split(ratings,\n",
    "                               stratify=ratings['userID'], \n",
    "                               test_size=0.20,\n",
    "                               random_state=42)"
   ]
  },
  {
   "cell_type": "code",
   "execution_count": 4,
   "metadata": {},
   "outputs": [
    {
     "name": "stdout",
     "output_type": "stream",
     "text": [
      "number of books=2970\n"
     ]
    }
   ],
   "source": [
    "#create the idx to bookid dictionary and bookid to idx dictionary\n",
    "idx_to_bookid=books_df['bookID'].to_dict()\n",
    "bookid_to_idx={}\n",
    "for k,v in idx_to_bookid.items():\n",
    "    bookid_to_idx[v]=k\n",
    "num_books=len(idx_to_bookid)\n",
    "print(f\"number of books={num_books}\")"
   ]
  },
  {
   "cell_type": "code",
   "execution_count": 5,
   "metadata": {},
   "outputs": [
    {
     "name": "stdout",
     "output_type": "stream",
     "text": [
      "number of users=3512\n"
     ]
    }
   ],
   "source": [
    "#create the idx to userid dictionary and userid to idx dictionary\n",
    "idx_to_userid=dict(enumerate(train['userID'].unique()))\n",
    "userid_to_idx={}\n",
    "for k,v in idx_to_userid.items():\n",
    "    userid_to_idx[v]=k\n",
    "num_users=len(idx_to_userid)\n",
    "print(f\"number of users={num_users}\")"
   ]
  },
  {
   "cell_type": "code",
   "execution_count": 6,
   "metadata": {},
   "outputs": [],
   "source": [
    "#construct the user_book matrix and run SVD \n",
    "user_book_matrix=np.zeros((num_users,num_books))\n",
    "for _,row in train.iterrows():\n",
    "    user_book_matrix[userid_to_idx[row['userID']],bookid_to_idx[row['bookID']]]=row['rating']\n",
    "\n",
    "#SVD decompostion, U maps the users to latent concepts, V maps the books to latent concepts,S represesnt the strength of the latent concepts \n",
    "U, S, VT = np.linalg.svd(user_book_matrix)"
   ]
  },
  {
   "cell_type": "code",
   "execution_count": 7,
   "metadata": {},
   "outputs": [],
   "source": [
    "#reconstruct the matrix, the each row of recon_matrix represents a book with a lower demension\n",
    "k=10 \n",
    "recon_matrix=(user_book_matrix.T).dot(U[:,:k])"
   ]
  },
  {
   "cell_type": "code",
   "execution_count": 8,
   "metadata": {},
   "outputs": [],
   "source": [
    "#compute the similarity between rows(books)\n",
    "recon_matrix = sparse.csr_matrix(recon_matrix)\n",
    "similarities = cosine_similarity(recon_matrix)"
   ]
  },
  {
   "cell_type": "markdown",
   "metadata": {},
   "source": [
    "# 2. Item_based prediction of ratings"
   ]
  },
  {
   "cell_type": "code",
   "execution_count": 9,
   "metadata": {},
   "outputs": [
    {
     "data": {
      "text/plain": [
       "1.205831469552349"
      ]
     },
     "execution_count": 9,
     "metadata": {},
     "output_type": "execute_result"
    }
   ],
   "source": [
    "#predict the rating for user whose id is '1742824'\n",
    "rated_bookID = train.loc[train.userID =='1742824']['bookID'].values\n",
    "rated_books=books_df[books_df['bookID'].isin(rated_bookID)]\n",
    "unrated_books=books_df[~books_df['bookID'].isin(rated_bookID)]\n",
    "rating_mapping=defaultdict(int)\n",
    "sim_mapping=defaultdict(int)\n",
    "rating_pred={}\n",
    "for book_r_idx in rated_books.index:\n",
    "    rating_r=rated_books[rated_books.index==book_r_idx]['rating'].values[0]    \n",
    "    for book_ur_idx in unrated_books.index:   \n",
    "        similar=similarities[book_r_idx,book_ur_idx]\n",
    "        #print('similar',similar)\n",
    "        rating_mapping[book_ur_idx]+=(rating_r*similar)\n",
    "        sim_mapping[book_ur_idx]+=similar\n",
    "for book_ur_idx in unrated_books.index:\n",
    "    #print(book_ur_ID)\n",
    "    #rating_p=rating_mapping[book_ur_idx]/sim_mapping[book_ur_idx]\n",
    "    #if rating_p>5:rating_p=5\n",
    "    #elif rating_p<0:rating_p=1\n",
    "    rating_pred[book_ur_idx]=rating_mapping[book_ur_idx]/sim_mapping[book_ur_idx]\n",
    "unrated_books['rating_pred']=pd.Series(rating_pred)\n",
    "true_rating_test=test[test['userID']=='1742824'].merge(unrated_books,on='bookID')['rating_x']\n",
    "pred_rating_test=test[test['userID']=='1742824'].merge(unrated_books,on='bookID')['rating_pred']\n",
    "rmse_test=sqrt(mean_squared_error(true_rating_test,pred_rating_test))\n",
    "rmse_test"
   ]
  },
  {
   "cell_type": "code",
   "execution_count": 10,
   "metadata": {},
   "outputs": [],
   "source": [
    "#For each user, predict the rating of the unrated books,and compute the average RMSE across the users\n",
    "def compute_rating(train,test,sim_matrix,books_df,userid_list):\n",
    "    rmse_train_list=[] \n",
    "    rmse_test_list=[]\n",
    "    for userid in tqdm(userid_list,desc=\"computing rating\"):\n",
    "        rated_bookID = train.loc[train.userID ==userid]['bookID'].values\n",
    "        rated_books=books_df[books_df['bookID'].isin(rated_bookID)]\n",
    "        #unrated_books=books_df.loc[~books_df['bookID'].isin(rated_bookID)]['bookID'].values\n",
    "        unrated_books=books_df[~books_df['bookID'].isin(rated_bookID)]\n",
    "        rating_mapping=defaultdict(int)\n",
    "        sim_mapping=defaultdict(int)\n",
    "        rating_pred={}\n",
    "        for book_r_idx in rated_books.index:\n",
    "            rating_r=rated_books[rated_books.index==book_r_idx]['rating'].values[0]    \n",
    "            for book_ur_idx in unrated_books.index:   \n",
    "                similar=sim_matrix[book_r_idx,book_ur_idx]\n",
    "                #print('similar',similar)\n",
    "                rating_mapping[book_ur_idx]+=(rating_r*similar)\n",
    "                sim_mapping[book_ur_idx]+=similar\n",
    "        for book_ur_idx in unrated_books.index:\n",
    "            #print(book_ur_ID)\n",
    "            rating_p=rating_mapping[book_ur_idx]/sim_mapping[book_ur_idx]\n",
    "            if rating_p>5:rating_p=5\n",
    "            elif rating_p<1:rating_p=1\n",
    "            rating_pred[book_ur_idx]=rating_p\n",
    "        unrated_books['rating_pred']=pd.Series(rating_pred)\n",
    "        true_rating_test=test[test['userID']==userid].merge(unrated_books,on='bookID')['rating_x']        \n",
    "        pred_rating_test=test[test['userID']==userid].merge(unrated_books,on='bookID')['rating_pred']\n",
    "        if len(true_rating_test)==0 or len(pred_rating_test)==0: continue\n",
    "        pred_rating_test=pred_rating_test.fillna(0)\n",
    "        #print(pred_rating_test)\n",
    "        rmse_test=sqrt(mean_squared_error(true_rating_test,pred_rating_test))\n",
    "        rmse_test_list.append(rmse_test)       \n",
    "    print(f'The mean rmse of rating prediction for test dataset is {np.mean(rmse_test_list)}')\n",
    "    return np.mean(rmse_test_list)"
   ]
  },
  {
   "cell_type": "code",
   "execution_count": 11,
   "metadata": {},
   "outputs": [
    {
     "data": {
      "application/vnd.jupyter.widget-view+json": {
       "model_id": "fa49a23e2dc3484b87109a187e40eec7",
       "version_major": 2,
       "version_minor": 0
      },
      "text/plain": [
       "HBox(children=(IntProgress(value=0, description='computing rating', max=3512, style=ProgressStyle(description_…"
      ]
     },
     "metadata": {},
     "output_type": "display_data"
    },
    {
     "name": "stdout",
     "output_type": "stream",
     "text": [
      "\n",
      "The mean rmse of rating prediction for test dataset is 1.0395437250394348\n"
     ]
    },
    {
     "data": {
      "text/plain": [
       "1.0395437250394348"
      ]
     },
     "execution_count": 11,
     "metadata": {},
     "output_type": "execute_result"
    }
   ],
   "source": [
    "compute_rating(train,test,similarities,books_df,userid_list)"
   ]
  },
  {
   "cell_type": "markdown",
   "metadata": {},
   "source": [
    "# 3. Recommend top N books for a user "
   ]
  },
  {
   "cell_type": "code",
   "execution_count": 12,
   "metadata": {},
   "outputs": [],
   "source": [
    "def recommend_books(sim_matrix,ratings,books_df,userid,N=10):\n",
    "    rated_bookID = ratings.loc[ratings.userID ==userid]['bookID'].values\n",
    "    rated_books=books_df[books_df['bookID'].isin(rated_bookID)]\n",
    "    unrated_books=books_df[~books_df['bookID'].isin(rated_bookID)]\n",
    "    rating_mapping=defaultdict(int)\n",
    "    sim_mapping=defaultdict(int)\n",
    "    rating_pred={}\n",
    "    for idx_r in rated_books.index:\n",
    "        rating_r=rated_books[rated_books.index==idx_r]['rating'].values[0]\n",
    "        for idx_ur in unrated_books.index:\n",
    "            similarity=sim_matrix[idx_r,idx_ur]\n",
    "            rating_mapping[idx_ur]+=(rating_r*similarity)\n",
    "            sim_mapping[idx_ur]+=similarity\n",
    "    for idx_ur in unrated_books.index:\n",
    "        rating_pred[idx_ur]=(rating_mapping[idx_ur]/sim_mapping[idx_ur])\n",
    "    unrated_books['rating_pred']=pd.Series(rating_pred)\n",
    "    return unrated_books.sort_values('rating_pred',ascending=False).head(N)[['title','rating','rating_pred']]"
   ]
  },
  {
   "cell_type": "code",
   "execution_count": 13,
   "metadata": {},
   "outputs": [
    {
     "data": {
      "text/html": [
       "<div>\n",
       "<style scoped>\n",
       "    .dataframe tbody tr th:only-of-type {\n",
       "        vertical-align: middle;\n",
       "    }\n",
       "\n",
       "    .dataframe tbody tr th {\n",
       "        vertical-align: top;\n",
       "    }\n",
       "\n",
       "    .dataframe thead th {\n",
       "        text-align: right;\n",
       "    }\n",
       "</style>\n",
       "<table border=\"1\" class=\"dataframe\">\n",
       "  <thead>\n",
       "    <tr style=\"text-align: right;\">\n",
       "      <th></th>\n",
       "      <th>title</th>\n",
       "      <th>rating</th>\n",
       "      <th>rating_pred</th>\n",
       "    </tr>\n",
       "  </thead>\n",
       "  <tbody>\n",
       "    <tr>\n",
       "      <th>2303</th>\n",
       "      <td>Shadow Catcher</td>\n",
       "      <td>3.90</td>\n",
       "      <td>4.165301</td>\n",
       "    </tr>\n",
       "    <tr>\n",
       "      <th>524</th>\n",
       "      <td>Edna in the Desert</td>\n",
       "      <td>3.88</td>\n",
       "      <td>4.150751</td>\n",
       "    </tr>\n",
       "    <tr>\n",
       "      <th>1274</th>\n",
       "      <td>Avaland</td>\n",
       "      <td>4.72</td>\n",
       "      <td>4.123203</td>\n",
       "    </tr>\n",
       "    <tr>\n",
       "      <th>1735</th>\n",
       "      <td>Ellipsis</td>\n",
       "      <td>4.42</td>\n",
       "      <td>4.120671</td>\n",
       "    </tr>\n",
       "    <tr>\n",
       "      <th>1154</th>\n",
       "      <td>City of Skies</td>\n",
       "      <td>3.88</td>\n",
       "      <td>4.118484</td>\n",
       "    </tr>\n",
       "    <tr>\n",
       "      <th>1057</th>\n",
       "      <td>Leap of Faith (The Rufino Factor Book One)</td>\n",
       "      <td>4.24</td>\n",
       "      <td>4.114197</td>\n",
       "    </tr>\n",
       "    <tr>\n",
       "      <th>1061</th>\n",
       "      <td>....Și la sfârșit a mai rămas coșmarul (...And...</td>\n",
       "      <td>4.44</td>\n",
       "      <td>4.079284</td>\n",
       "    </tr>\n",
       "    <tr>\n",
       "      <th>1478</th>\n",
       "      <td>Kim</td>\n",
       "      <td>3.72</td>\n",
       "      <td>4.065210</td>\n",
       "    </tr>\n",
       "    <tr>\n",
       "      <th>2668</th>\n",
       "      <td>The Elephant Tree</td>\n",
       "      <td>4.13</td>\n",
       "      <td>4.064459</td>\n",
       "    </tr>\n",
       "    <tr>\n",
       "      <th>1442</th>\n",
       "      <td>Gray Hawk of Terrapin</td>\n",
       "      <td>4.37</td>\n",
       "      <td>4.063019</td>\n",
       "    </tr>\n",
       "  </tbody>\n",
       "</table>\n",
       "</div>"
      ],
      "text/plain": [
       "                                                  title  rating  rating_pred\n",
       "2303                                     Shadow Catcher    3.90     4.165301\n",
       "524                                  Edna in the Desert    3.88     4.150751\n",
       "1274                                            Avaland    4.72     4.123203\n",
       "1735                                           Ellipsis    4.42     4.120671\n",
       "1154                                      City of Skies    3.88     4.118484\n",
       "1057         Leap of Faith (The Rufino Factor Book One)    4.24     4.114197\n",
       "1061  ....Și la sfârșit a mai rămas coșmarul (...And...    4.44     4.079284\n",
       "1478                                                Kim    3.72     4.065210\n",
       "2668                                  The Elephant Tree    4.13     4.064459\n",
       "1442                              Gray Hawk of Terrapin    4.37     4.063019"
      ]
     },
     "execution_count": 13,
     "metadata": {},
     "output_type": "execute_result"
    }
   ],
   "source": [
    "#recommend 10 books for user whose id is '2745288'\n",
    "recommend_books(similarities,ratings,books_df,userid='2745288',N=10)"
   ]
  },
  {
   "cell_type": "code",
   "execution_count": null,
   "metadata": {},
   "outputs": [],
   "source": []
  }
 ],
 "metadata": {
  "kernelspec": {
   "display_name": "Python 3",
   "language": "python",
   "name": "python3"
  },
  "language_info": {
   "codemirror_mode": {
    "name": "ipython",
    "version": 3
   },
   "file_extension": ".py",
   "mimetype": "text/x-python",
   "name": "python",
   "nbconvert_exporter": "python",
   "pygments_lexer": "ipython3",
   "version": "3.7.3"
  }
 },
 "nbformat": 4,
 "nbformat_minor": 2
}
